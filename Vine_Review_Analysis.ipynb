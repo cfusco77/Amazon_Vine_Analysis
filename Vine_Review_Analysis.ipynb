{
  "nbformat": 4,
  "nbformat_minor": 0,
  "metadata": {
    "colab": {
      "name": "Vine_Review_Analysis",
      "provenance": [],
      "authorship_tag": "ABX9TyMEjOOAreCJ9nXngeNJAIuL",
      "include_colab_link": true
    },
    "kernelspec": {
      "name": "python3",
      "display_name": "Python 3"
    },
    "language_info": {
      "name": "python"
    }
  },
  "cells": [
    {
      "cell_type": "markdown",
      "metadata": {
        "id": "view-in-github",
        "colab_type": "text"
      },
      "source": [
        "<a href=\"https://colab.research.google.com/github/cfusco77/Amazon_Vine_Analysis/blob/main/Vine_Review_Analysis.ipynb\" target=\"_parent\"><img src=\"https://colab.research.google.com/assets/colab-badge.svg\" alt=\"Open In Colab\"/></a>"
      ]
    },
    {
      "cell_type": "code",
      "metadata": {
        "colab": {
          "base_uri": "https://localhost:8080/"
        },
        "id": "qtsRmh0XB0Yk",
        "outputId": "368ed239-6e68-4f8f-c7d5-a4577b242d7d"
      },
      "source": [
        "import os\n",
        "# Find the latest version of spark 3.0 from http://www.apache.org/dist/spark/ and enter as the spark version\n",
        "# For example:\n",
        "# spark_version = 'spark-3.0.3'\n",
        "spark_version = 'spark-3.0.3'\n",
        "os.environ['SPARK_VERSION']=spark_version\n",
        "\n",
        "# Install Spark and Java\n",
        "!apt-get update\n",
        "!apt-get install openjdk-11-jdk-headless -qq > /dev/null\n",
        "!wget -q http://www.apache.org/dist/spark/$SPARK_VERSION/$SPARK_VERSION-bin-hadoop2.7.tgz\n",
        "!tar xf $SPARK_VERSION-bin-hadoop2.7.tgz\n",
        "!pip install -q findspark\n",
        "\n",
        "# Set Environment Variables\n",
        "import os\n",
        "os.environ[\"JAVA_HOME\"] = \"/usr/lib/jvm/java-11-openjdk-amd64\"\n",
        "os.environ[\"SPARK_HOME\"] = f\"/content/{spark_version}-bin-hadoop2.7\"\n",
        "\n",
        "# Start a SparkSession\n",
        "import findspark\n",
        "findspark.init()"
      ],
      "execution_count": 1,
      "outputs": [
        {
          "output_type": "stream",
          "name": "stdout",
          "text": [
            "\r0% [Working]\r            \rGet:1 http://security.ubuntu.com/ubuntu bionic-security InRelease [88.7 kB]\n",
            "\r0% [Connecting to archive.ubuntu.com (91.189.88.142)] [1 InRelease 14.2 kB/88.7\r                                                                               \rGet:2 https://cloud.r-project.org/bin/linux/ubuntu bionic-cran40/ InRelease [3,626 B]\n",
            "\r0% [Waiting for headers] [1 InRelease 77.9 kB/88.7 kB 88%] [2 InRelease 0 B/3,6\r0% [Waiting for headers] [1 InRelease 88.7 kB/88.7 kB 100%] [Waiting for header\r                                                                               \r0% [Waiting for headers] [Waiting for headers] [Waiting for headers]\r                                                                    \rIgn:3 https://developer.download.nvidia.com/compute/cuda/repos/ubuntu1804/x86_64  InRelease\n",
            "\r0% [Waiting for headers] [Waiting for headers] [Waiting for headers]\r0% [2 InRelease gpgv 3,626 B] [Waiting for headers] [Waiting for headers] [Wait\r                                                                               \rGet:4 http://ppa.launchpad.net/c2d4u.team/c2d4u4.0+/ubuntu bionic InRelease [15.9 kB]\n",
            "\r0% [2 InRelease gpgv 3,626 B] [Waiting for headers] [4 InRelease 2,572 B/15.9 k\r                                                                               \rIgn:5 https://developer.download.nvidia.com/compute/machine-learning/repos/ubuntu1804/x86_64  InRelease\n",
            "Hit:6 https://developer.download.nvidia.com/compute/cuda/repos/ubuntu1804/x86_64  Release\n",
            "Hit:7 https://developer.download.nvidia.com/compute/machine-learning/repos/ubuntu1804/x86_64  Release\n",
            "Hit:8 http://ppa.launchpad.net/cran/libgit2/ubuntu bionic InRelease\n",
            "Hit:9 http://archive.ubuntu.com/ubuntu bionic InRelease\n",
            "Hit:10 http://ppa.launchpad.net/deadsnakes/ppa/ubuntu bionic InRelease\n",
            "Get:11 http://archive.ubuntu.com/ubuntu bionic-updates InRelease [88.7 kB]\n",
            "Get:12 http://security.ubuntu.com/ubuntu bionic-security/universe amd64 Packages [1,430 kB]\n",
            "Hit:13 http://ppa.launchpad.net/graphics-drivers/ppa/ubuntu bionic InRelease\n",
            "Get:14 http://archive.ubuntu.com/ubuntu bionic-backports InRelease [74.6 kB]\n",
            "Get:17 http://ppa.launchpad.net/c2d4u.team/c2d4u4.0+/ubuntu bionic/main Sources [1,802 kB]\n",
            "Get:18 http://ppa.launchpad.net/c2d4u.team/c2d4u4.0+/ubuntu bionic/main amd64 Packages [922 kB]\n",
            "Get:19 http://archive.ubuntu.com/ubuntu bionic-updates/main amd64 Packages [2,800 kB]\n",
            "Get:20 http://archive.ubuntu.com/ubuntu bionic-updates/universe amd64 Packages [2,208 kB]\n",
            "Fetched 9,435 kB in 5s (1,730 kB/s)\n",
            "Reading package lists... Done\n"
          ]
        }
      ]
    },
    {
      "cell_type": "code",
      "metadata": {
        "id": "dNt0pr0aCEI7"
      },
      "source": [
        "from pyspark.sql import SparkSession\n",
        "spark = SparkSession.builder.appName(\"M16-Amazon-Challenge\").config(\"spark.driver.extraClassPath\",\"/content/postgresql-42.2.16.jar\").getOrCreate()"
      ],
      "execution_count": 2,
      "outputs": []
    },
    {
      "cell_type": "markdown",
      "metadata": {
        "id": "zPm5MTGqCGm9"
      },
      "source": [
        "Load Amazon Data into Spark DataFrame"
      ]
    },
    {
      "cell_type": "code",
      "metadata": {
        "colab": {
          "base_uri": "https://localhost:8080/"
        },
        "id": "WL4b367OCHWh",
        "outputId": "8351e0cf-3912-4250-b091-a39674b2ff97"
      },
      "source": [
        "from pyspark import SparkFiles\n",
        "url = \"https://s3.amazonaws.com/amazon-reviews-pds/tsv/amazon_reviews_us_Furniture_v1_00.tsv.gz\"\n",
        "spark.sparkContext.addFile(url)\n",
        "df = spark.read.option(\"encoding\", \"UTF-8\").csv(SparkFiles.get(\"\"), sep=\"\\t\", header=True, inferSchema=True)\n",
        "df.show()"
      ],
      "execution_count": 3,
      "outputs": [
        {
          "output_type": "stream",
          "name": "stdout",
          "text": [
            "+-----------+-----------+--------------+----------+--------------+--------------------+----------------+-----------+-------------+-----------+----+-----------------+--------------------+--------------------+-----------+\n",
            "|marketplace|customer_id|     review_id|product_id|product_parent|       product_title|product_category|star_rating|helpful_votes|total_votes|vine|verified_purchase|     review_headline|         review_body|review_date|\n",
            "+-----------+-----------+--------------+----------+--------------+--------------------+----------------+-----------+-------------+-----------+----+-----------------+--------------------+--------------------+-----------+\n",
            "|         US|   24509695|R3VR960AHLFKDV|B004HB5E0E|     488241329|Shoal Creek Compu...|       Furniture|          4|            0|          0|   N|                Y|... desk is very ...|This desk is very...| 2015-08-31|\n",
            "|         US|   34731776|R16LGVMFKIUT0G|B0042TNMMS|     205864445|Dorel Home Produc...|       Furniture|          5|            0|          0|   N|                Y|          Five Stars|          Great item| 2015-08-31|\n",
            "|         US|    1272331|R1AIMEEPYHMOE4|B0030MPBZ4|     124663823|Bathroom Vanity T...|       Furniture|          5|            1|          1|   N|                Y|          Five Stars|Perfect fit for m...| 2015-08-31|\n",
            "|         US|   45284262|R1892CCSZWZ9SR|B005G02ESA|     382367578|Sleep Master Ulti...|       Furniture|          3|            0|          0|   N|                Y|         Good enough|We use this on a ...| 2015-08-31|\n",
            "|         US|   30003523|R285P679YWVKD1|B005JS8AUA|     309497463|1 1/4\" GashGuards...|       Furniture|          3|            0|          0|   N|                N|Gash Gards for da...|The product is fi...| 2015-08-31|\n",
            "|         US|   18311821| RLB33HJBXHZHU|B00AVUQQGQ|     574537906|Serta Bonded Leat...|       Furniture|          5|            0|          0|   N|                Y|          Five Stars|Love this product...| 2015-08-31|\n",
            "|         US|   42943632|R1VGTZ94DBAD6A|B00CFY20GQ|     407473883|Prepac Shoe Stora...|       Furniture|          5|            2|          2|   N|                Y|   I love this bench|I love this bench...| 2015-08-31|\n",
            "|         US|   43157304|R168KF82ICSOHD|B00FKC48QA|     435120460|HomCom PU Leather...|       Furniture|          5|            0|          0|   N|                Y|Great storage cap...|Have had this for...| 2015-08-31|\n",
            "|         US|   51918480|R20DIYIJ0OCMOG|B00N9IAL9K|     356495985|  Folding Step Stool|       Furniture|          5|            0|          0|   N|                Y|This is the best ...|This is the best ...| 2015-08-31|\n",
            "|         US|   14522766| RD46RNVOHNZSC|B001T4XU1C|     243050228|Ace Bayou Adult V...|       Furniture|          5|            0|          0|   N|                Y|    great for price!|    my son loves it!| 2015-08-31|\n",
            "|         US|   43054112|R2JDOCETTM3AXS|B002HRFLBC|      93574483|4D Concepts Audio...|       Furniture|          5|            0|          0|   N|                Y|          Five Stars|       Great product| 2015-08-31|\n",
            "|         US|   26622950|R33YMW36IDZ6LE|B006MISZOC|     941823468|Zinus SC-SBBK-14N...|       Furniture|          5|            0|          0|   N|                Y|             perfect|bought with sleep...| 2015-08-31|\n",
            "|         US|   17988940|R30ZGGUHZ04C1S|B008BMGABC|     460567746|Poundex Marble Di...|       Furniture|          5|            1|          1|   N|                Y|   Very satisfied!!!|Delivery was on t...| 2015-08-31|\n",
            "|         US|   18444952| RS2EZU76IK2BT|B00CO2VH5Y|     829613894|Safavieh Lyndhurs...|       Furniture|          5|            0|          0|   N|                Y|soft and great fo...|Exactly as pictur...| 2015-08-31|\n",
            "|         US|   16937084|R1GJC1BP028XO9|B00LI4RJQ0|     816478187|Sauder Boone Moun...|       Furniture|          5|            2|          3|   N|                Y|        Great table.|Beautiful table. ...| 2015-08-31|\n",
            "|         US|   23665632|R2VKJPGXXEK5GP|B0046EC1D0|     358594389|Winsome Wood Brea...|       Furniture|          1|            0|          0|   N|                Y|Not what I expect...|I have cleaned up...| 2015-08-31|\n",
            "|         US|    4110125|R17KS83G3KLT97|B00DQQPL36|     312571325|HODEDAH IMPORT Me...|       Furniture|          3|            0|          0|   N|                Y|         Three Stars|First one came in...| 2015-08-31|\n",
            "|         US|     107621|R3PQL8SR4NEHWL|B003X7RWB2|     402665054|Flash Furniture H...|       Furniture|          4|            0|          0|   N|                Y|          Four Stars|Good deal to get ...| 2015-08-31|\n",
            "|         US|    2415090|R2F5WW7WNO5RRG|B001TJYPJ8|     854989315|Sleep Revolution ...|       Furniture|          5|            0|          0|   N|                Y|          Five Stars|Comfortable and e...| 2015-08-31|\n",
            "|         US|   48285966|R3UDJKVWQCFIC9|B000TMHX9A|     814079288|Flash Furniture V...|       Furniture|          5|            0|          0|   N|                Y|Very comfortable....|As advertised. Ve...| 2015-08-31|\n",
            "+-----------+-----------+--------------+----------+--------------+--------------------+----------------+-----------+-------------+-----------+----+-----------------+--------------------+--------------------+-----------+\n",
            "only showing top 20 rows\n",
            "\n"
          ]
        }
      ]
    },
    {
      "cell_type": "markdown",
      "metadata": {
        "id": "QafWyX9xCN2f"
      },
      "source": [
        "Create DataFrames to match tables"
      ]
    },
    {
      "cell_type": "code",
      "metadata": {
        "id": "xiotTysACOa8"
      },
      "source": [
        "from pyspark.sql.functions import to_date\n",
        "# Read in the Review dataset as a DataFrame"
      ],
      "execution_count": 4,
      "outputs": []
    },
    {
      "cell_type": "code",
      "metadata": {
        "colab": {
          "base_uri": "https://localhost:8080/"
        },
        "id": "-4oTQJliCUBI",
        "outputId": "75a7f580-d6f2-4256-fd8c-c9e1230b03e8"
      },
      "source": [
        "# Create the vine_table. DataFrame\n",
        "# vine_df = df.select([])\n",
        "vine_df = df.select([\"review_id\", \"star_rating\", \"helpful_votes\", \"total_votes\", \"vine\", \"verified_purchase\"])\n",
        "vine_df.show()"
      ],
      "execution_count": 5,
      "outputs": [
        {
          "output_type": "stream",
          "name": "stdout",
          "text": [
            "+--------------+-----------+-------------+-----------+----+-----------------+\n",
            "|     review_id|star_rating|helpful_votes|total_votes|vine|verified_purchase|\n",
            "+--------------+-----------+-------------+-----------+----+-----------------+\n",
            "|R3VR960AHLFKDV|          4|            0|          0|   N|                Y|\n",
            "|R16LGVMFKIUT0G|          5|            0|          0|   N|                Y|\n",
            "|R1AIMEEPYHMOE4|          5|            1|          1|   N|                Y|\n",
            "|R1892CCSZWZ9SR|          3|            0|          0|   N|                Y|\n",
            "|R285P679YWVKD1|          3|            0|          0|   N|                N|\n",
            "| RLB33HJBXHZHU|          5|            0|          0|   N|                Y|\n",
            "|R1VGTZ94DBAD6A|          5|            2|          2|   N|                Y|\n",
            "|R168KF82ICSOHD|          5|            0|          0|   N|                Y|\n",
            "|R20DIYIJ0OCMOG|          5|            0|          0|   N|                Y|\n",
            "| RD46RNVOHNZSC|          5|            0|          0|   N|                Y|\n",
            "|R2JDOCETTM3AXS|          5|            0|          0|   N|                Y|\n",
            "|R33YMW36IDZ6LE|          5|            0|          0|   N|                Y|\n",
            "|R30ZGGUHZ04C1S|          5|            1|          1|   N|                Y|\n",
            "| RS2EZU76IK2BT|          5|            0|          0|   N|                Y|\n",
            "|R1GJC1BP028XO9|          5|            2|          3|   N|                Y|\n",
            "|R2VKJPGXXEK5GP|          1|            0|          0|   N|                Y|\n",
            "|R17KS83G3KLT97|          3|            0|          0|   N|                Y|\n",
            "|R3PQL8SR4NEHWL|          4|            0|          0|   N|                Y|\n",
            "|R2F5WW7WNO5RRG|          5|            0|          0|   N|                Y|\n",
            "|R3UDJKVWQCFIC9|          5|            0|          0|   N|                Y|\n",
            "+--------------+-----------+-------------+-----------+----+-----------------+\n",
            "only showing top 20 rows\n",
            "\n"
          ]
        }
      ]
    },
    {
      "cell_type": "code",
      "metadata": {
        "colab": {
          "base_uri": "https://localhost:8080/"
        },
        "id": "2_nzADVVCZJy",
        "outputId": "f212b6a5-62d0-460d-d04d-17406a490ef1"
      },
      "source": [
        "#Filter the data and create a new Dataframe to retrieve all the rows where the totoal_botes count is equal to or greater than 20 \n",
        "filtered_reviews = vine_df.filter(vine_df[\"total_votes\"]>=20)\n",
        "filtered_reviews.show()"
      ],
      "execution_count": 6,
      "outputs": [
        {
          "output_type": "stream",
          "name": "stdout",
          "text": [
            "+--------------+-----------+-------------+-----------+----+-----------------+\n",
            "|     review_id|star_rating|helpful_votes|total_votes|vine|verified_purchase|\n",
            "+--------------+-----------+-------------+-----------+----+-----------------+\n",
            "| RL8D0KJ0J9L0O|          5|          152|        165|   N|                Y|\n",
            "|R1BEINAIQFBRJC|          5|           21|         23|   N|                Y|\n",
            "|R2L59KIJH302P9|          4|           26|         26|   N|                Y|\n",
            "| RR99CPG695T0I|          5|          215|        248|   N|                N|\n",
            "|R1XQNKKUPCMWVO|          5|           43|         44|   N|                Y|\n",
            "|R3JUXVCT1NSK2A|          3|           25|         26|   N|                Y|\n",
            "|R3GNSIFV1J2Y2B|          1|           15|         60|   N|                N|\n",
            "| RTCRZARYY4LXX|          5|           52|         54|   N|                Y|\n",
            "|R3OFB4P7Y8WR27|          1|           15|         26|   N|                Y|\n",
            "|R3MTAYGQM25N63|          4|           58|         59|   N|                Y|\n",
            "| RJNDSWES5ISZ7|          5|           78|         79|   N|                Y|\n",
            "|R15R7STOZZP2A4|          5|           33|         34|   N|                Y|\n",
            "|R33V5WV529NK8E|          4|           30|         32|   N|                Y|\n",
            "| RIR9ZI3L80P7P|          3|           72|         76|   N|                N|\n",
            "|R10P6SDC1D6C3I|          5|           23|         25|   N|                Y|\n",
            "|R110G9UVLI2MLS|          5|           52|         55|   N|                Y|\n",
            "|R1I4LN1WR3YVJX|          1|           31|         40|   N|                Y|\n",
            "|R1B76MPCS05UX9|          5|           19|         21|   N|                Y|\n",
            "|R17PJIKAZ3U6BG|          5|           21|         21|   N|                Y|\n",
            "|R2T3TLCX42RWLY|          5|           46|         48|   N|                Y|\n",
            "+--------------+-----------+-------------+-----------+----+-----------------+\n",
            "only showing top 20 rows\n",
            "\n"
          ]
        }
      ]
    },
    {
      "cell_type": "code",
      "metadata": {
        "colab": {
          "base_uri": "https://localhost:8080/"
        },
        "id": "_CIsQl2HCcNt",
        "outputId": "ecfe136f-56e5-4121-9011-61d9cb49918b"
      },
      "source": [
        "#Filter the data and create a new Dataframe to retrieve all the rows where the number of helpful_votes divided by the total_votes is equal to or greater than 50% \n",
        "helpful_reviews = filtered_reviews.filter((filtered_reviews[\"helpful_votes\"]/filtered_reviews[\"total_votes\"])>=.5)\n",
        "helpful_reviews.show()"
      ],
      "execution_count": 7,
      "outputs": [
        {
          "output_type": "stream",
          "name": "stdout",
          "text": [
            "+--------------+-----------+-------------+-----------+----+-----------------+\n",
            "|     review_id|star_rating|helpful_votes|total_votes|vine|verified_purchase|\n",
            "+--------------+-----------+-------------+-----------+----+-----------------+\n",
            "| RL8D0KJ0J9L0O|          5|          152|        165|   N|                Y|\n",
            "|R1BEINAIQFBRJC|          5|           21|         23|   N|                Y|\n",
            "|R2L59KIJH302P9|          4|           26|         26|   N|                Y|\n",
            "| RR99CPG695T0I|          5|          215|        248|   N|                N|\n",
            "|R1XQNKKUPCMWVO|          5|           43|         44|   N|                Y|\n",
            "|R3JUXVCT1NSK2A|          3|           25|         26|   N|                Y|\n",
            "| RTCRZARYY4LXX|          5|           52|         54|   N|                Y|\n",
            "|R3OFB4P7Y8WR27|          1|           15|         26|   N|                Y|\n",
            "|R3MTAYGQM25N63|          4|           58|         59|   N|                Y|\n",
            "| RJNDSWES5ISZ7|          5|           78|         79|   N|                Y|\n",
            "|R15R7STOZZP2A4|          5|           33|         34|   N|                Y|\n",
            "|R33V5WV529NK8E|          4|           30|         32|   N|                Y|\n",
            "| RIR9ZI3L80P7P|          3|           72|         76|   N|                N|\n",
            "|R10P6SDC1D6C3I|          5|           23|         25|   N|                Y|\n",
            "|R110G9UVLI2MLS|          5|           52|         55|   N|                Y|\n",
            "|R1I4LN1WR3YVJX|          1|           31|         40|   N|                Y|\n",
            "|R1B76MPCS05UX9|          5|           19|         21|   N|                Y|\n",
            "|R17PJIKAZ3U6BG|          5|           21|         21|   N|                Y|\n",
            "|R2T3TLCX42RWLY|          5|           46|         48|   N|                Y|\n",
            "|R39YWJ09ZCPW7P|          5|           24|         28|   N|                Y|\n",
            "+--------------+-----------+-------------+-----------+----+-----------------+\n",
            "only showing top 20 rows\n",
            "\n"
          ]
        }
      ]
    },
    {
      "cell_type": "code",
      "metadata": {
        "colab": {
          "base_uri": "https://localhost:8080/"
        },
        "id": "UZAXx2E3Ce-k",
        "outputId": "14904cc2-663f-45b6-9bfe-0c60f476c7c8"
      },
      "source": [
        "#Filter the DataFrame to retrieve rows where a review was written as part of the Vine program (paid) \n",
        "paid_reviews = helpful_reviews.filter(helpful_reviews[\"vine\"] =='Y')\n",
        "paid_reviews.show()"
      ],
      "execution_count": 8,
      "outputs": [
        {
          "output_type": "stream",
          "name": "stdout",
          "text": [
            "+--------------+-----------+-------------+-----------+----+-----------------+\n",
            "|     review_id|star_rating|helpful_votes|total_votes|vine|verified_purchase|\n",
            "+--------------+-----------+-------------+-----------+----+-----------------+\n",
            "|R2BQOD1R0228FN|          3|           17|         26|   Y|                N|\n",
            "| RC31RUPFOHBHQ|          4|          102|        117|   Y|                N|\n",
            "| REN3N1WITLF1Y|          5|           33|         37|   Y|                N|\n",
            "| R71RZQ9UZVG47|          4|           38|         47|   Y|                N|\n",
            "|R38NMQBH88HLM6|          4|           18|         24|   Y|                N|\n",
            "|R33FGX9EE3QVR6|          4|           26|         26|   Y|                N|\n",
            "|R1KIOIK6WEYE59|          3|           19|         20|   Y|                N|\n",
            "|R25X9BMOB3FD0E|          4|           32|         37|   Y|                N|\n",
            "|R3VCKFCX2377Q2|          4|           95|        101|   Y|                N|\n",
            "|R1E0OUG63HMSM4|          3|           58|         61|   Y|                N|\n",
            "|R1V45RUW5ZB3LS|          4|           19|         21|   Y|                N|\n",
            "| RTF6DSZ1UTLHH|          5|          401|        418|   Y|                N|\n",
            "|R1CZV9N2YLJAP7|          5|          123|        136|   Y|                Y|\n",
            "|R1OF3X9W99Y300|          4|           27|         35|   Y|                N|\n",
            "|R1JYKEH4CQVJ1B|          5|           22|         23|   Y|                N|\n",
            "|R1093XVB0H2QOL|          4|           51|         54|   Y|                N|\n",
            "|R3Q81B31F1CPGH|          3|           50|         55|   Y|                N|\n",
            "|R2P6XIZZPJF7AE|          5|           46|         51|   Y|                N|\n",
            "|R3N5S06UW5MKFE|          3|          907|        925|   Y|                N|\n",
            "|R3J9EJCVKFCRWO|          5|           18|         20|   Y|                N|\n",
            "+--------------+-----------+-------------+-----------+----+-----------------+\n",
            "only showing top 20 rows\n",
            "\n"
          ]
        }
      ]
    },
    {
      "cell_type": "code",
      "metadata": {
        "colab": {
          "base_uri": "https://localhost:8080/"
        },
        "id": "zN_zB9n2ChUT",
        "outputId": "e3b4c6f0-3d2a-428f-cd22-b30a391fc573"
      },
      "source": [
        "#Filter the DataFrame to retrieve rows where a review was written as not part of the Vine program (unpaid) \n",
        "unpaid_reviews = helpful_reviews.filter(helpful_reviews[\"vine\"] =='N')\n",
        "unpaid_reviews.show()"
      ],
      "execution_count": 9,
      "outputs": [
        {
          "output_type": "stream",
          "name": "stdout",
          "text": [
            "+--------------+-----------+-------------+-----------+----+-----------------+\n",
            "|     review_id|star_rating|helpful_votes|total_votes|vine|verified_purchase|\n",
            "+--------------+-----------+-------------+-----------+----+-----------------+\n",
            "| RL8D0KJ0J9L0O|          5|          152|        165|   N|                Y|\n",
            "|R1BEINAIQFBRJC|          5|           21|         23|   N|                Y|\n",
            "|R2L59KIJH302P9|          4|           26|         26|   N|                Y|\n",
            "| RR99CPG695T0I|          5|          215|        248|   N|                N|\n",
            "|R1XQNKKUPCMWVO|          5|           43|         44|   N|                Y|\n",
            "|R3JUXVCT1NSK2A|          3|           25|         26|   N|                Y|\n",
            "| RTCRZARYY4LXX|          5|           52|         54|   N|                Y|\n",
            "|R3OFB4P7Y8WR27|          1|           15|         26|   N|                Y|\n",
            "|R3MTAYGQM25N63|          4|           58|         59|   N|                Y|\n",
            "| RJNDSWES5ISZ7|          5|           78|         79|   N|                Y|\n",
            "|R15R7STOZZP2A4|          5|           33|         34|   N|                Y|\n",
            "|R33V5WV529NK8E|          4|           30|         32|   N|                Y|\n",
            "| RIR9ZI3L80P7P|          3|           72|         76|   N|                N|\n",
            "|R10P6SDC1D6C3I|          5|           23|         25|   N|                Y|\n",
            "|R110G9UVLI2MLS|          5|           52|         55|   N|                Y|\n",
            "|R1I4LN1WR3YVJX|          1|           31|         40|   N|                Y|\n",
            "|R1B76MPCS05UX9|          5|           19|         21|   N|                Y|\n",
            "|R17PJIKAZ3U6BG|          5|           21|         21|   N|                Y|\n",
            "|R2T3TLCX42RWLY|          5|           46|         48|   N|                Y|\n",
            "|R39YWJ09ZCPW7P|          5|           24|         28|   N|                Y|\n",
            "+--------------+-----------+-------------+-----------+----+-----------------+\n",
            "only showing top 20 rows\n",
            "\n"
          ]
        }
      ]
    },
    {
      "cell_type": "code",
      "metadata": {
        "colab": {
          "base_uri": "https://localhost:8080/"
        },
        "id": "pXXPzsamlZ1g",
        "outputId": "faab41a1-858c-497a-858c-954711517aa6"
      },
      "source": [
        "#Overall Summary\n",
        "helpful_reviews_count = helpful_reviews.count()\n",
        "helpful_five_star = helpful_reviews.filter(helpful_reviews[\"star_rating\"]==5).count()\n",
        "helpful_five_star_percent = round(((helpful_five_star / helpful_reviews_count)*100), 2)\n",
        "\n",
        "#Create Paid Dataframe \n",
        "helpful_df = spark.createDataFrame([\n",
        "      (\"Total Reviews\", str(helpful_reviews_count)),\n",
        "      (\"Total 5-Star Reviews\", str(helpful_five_star)),\n",
        "      (\"Percentage of 5-Star Reviews\", str(helpful_five_star_percent))\n",
        "  ], [\" Helpful Review Summary\", \"Count\"])\n",
        "\n",
        "helpful_df.show()"
      ],
      "execution_count": 10,
      "outputs": [
        {
          "output_type": "stream",
          "name": "stdout",
          "text": [
            "+-----------------------+-----+\n",
            "| Helpful Review Summary|Count|\n",
            "+-----------------------+-----+\n",
            "|          Total Reviews|18155|\n",
            "|   Total 5-Star Reviews| 8556|\n",
            "|   Percentage of 5-S...|47.13|\n",
            "+-----------------------+-----+\n",
            "\n"
          ]
        }
      ]
    },
    {
      "cell_type": "code",
      "metadata": {
        "colab": {
          "base_uri": "https://localhost:8080/"
        },
        "id": "R6lS-G_JNX1p",
        "outputId": "2eaccd3f-7e1c-4fbc-d80d-3c542ccff7ed"
      },
      "source": [
        "#Determine the total number of reviews, the number of 5-star reviews, and the percentage of 5-star reviews for the two types of review (paid vs unpaid).\n",
        "#Paid Summary\n",
        "paid_reviews_count = paid_reviews.count()\n",
        "paid_five_star = paid_reviews.filter(paid_reviews[\"star_rating\"]==5).count()\n",
        "paid_five_star_percent = round(((paid_five_star / paid_reviews_count)*100), 2)\n",
        "\n",
        "#Create Paid Dataframe \n",
        "paid_df = spark.createDataFrame([\n",
        "      (\"Total Reviews\", str(paid_reviews_count)),\n",
        "      (\"Total 5-Star Reviews\", str(paid_five_star)),\n",
        "      (\"Percentage of 5-Star Reviews\", str(paid_five_star_percent))\n",
        "  ], [\" Paid Summary\", \"Count\"])\n",
        "\n",
        "paid_df.show()\n"
      ],
      "execution_count": 11,
      "outputs": [
        {
          "output_type": "stream",
          "name": "stdout",
          "text": [
            "+--------------------+-----+\n",
            "|        Paid Summary|Count|\n",
            "+--------------------+-----+\n",
            "|       Total Reviews|  136|\n",
            "|Total 5-Star Reviews|   74|\n",
            "|Percentage of 5-S...|54.41|\n",
            "+--------------------+-----+\n",
            "\n"
          ]
        }
      ]
    },
    {
      "cell_type": "code",
      "metadata": {
        "colab": {
          "base_uri": "https://localhost:8080/"
        },
        "id": "L4L7yFPQUrbT",
        "outputId": "246d5310-6aea-4f9b-cd04-880988bb09d8"
      },
      "source": [
        "#UnPaid Summary\n",
        "unpaid_reviews_count = unpaid_reviews.count()\n",
        "unpaid_five_star = unpaid_reviews.filter(unpaid_reviews[\"star_rating\"]==5).count()\n",
        "unpaid_five_star_percent = round(((unpaid_five_star / unpaid_reviews_count)*100), 2)\n",
        "\n",
        "#Create UnPaid Dataframe \n",
        "unpaid_df = spark.createDataFrame([\n",
        "      (\"Total Reviews\", str(unpaid_reviews_count)),\n",
        "      (\"Total 5-Star Reviews\", str(unpaid_five_star)),\n",
        "      (\"Percentage of 5-Star Reviews\", str(unpaid_five_star_percent))\n",
        "  ], [\"Unpaid Summary\", \"Count\"])\n",
        "\n",
        "unpaid_df.show()"
      ],
      "execution_count": 12,
      "outputs": [
        {
          "output_type": "stream",
          "name": "stdout",
          "text": [
            "+--------------------+-----+\n",
            "|      Unpaid Summary|Count|\n",
            "+--------------------+-----+\n",
            "|       Total Reviews|18019|\n",
            "|Total 5-Star Reviews| 8482|\n",
            "|Percentage of 5-S...|47.07|\n",
            "+--------------------+-----+\n",
            "\n"
          ]
        }
      ]
    }
  ]
}